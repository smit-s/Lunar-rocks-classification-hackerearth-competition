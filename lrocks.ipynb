{
  "nbformat": 4,
  "nbformat_minor": 0,
  "metadata": {
    "colab": {
      "name": "lunarrocks.ipynb",
      "provenance": [],
      "collapsed_sections": [],
      "machine_shape": "hm"
    },
    "kernelspec": {
      "name": "python3",
      "display_name": "Python 3"
    },
    "accelerator": "GPU"
  },
  "cells": [
    {
      "cell_type": "code",
      "metadata": {
        "id": "3u-5_NKh9PAc",
        "colab_type": "code",
        "outputId": "ea4cf850-6d5a-4e34-bbc8-768dbedaadaf",
        "colab": {
          "base_uri": "https://localhost:8080/",
          "height": 54
        }
      },
      "source": [
        "from google.colab import drive\n",
        "drive.mount('/content/drive')"
      ],
      "execution_count": 0,
      "outputs": [
        {
          "output_type": "stream",
          "text": [
            "Drive already mounted at /content/drive; to attempt to forcibly remount, call drive.mount(\"/content/drive\", force_remount=True).\n"
          ],
          "name": "stdout"
        }
      ]
    },
    {
      "cell_type": "code",
      "metadata": {
        "id": "F0qzcI-VQnDp",
        "colab_type": "code",
        "colab": {}
      },
      "source": [
        "import cv2\n",
        "import pandas as pd\n",
        "import tensorflow as tf\n",
        "from keras.models import Sequential\n",
        "from keras.layers import Dense, Activation,Conv2D,MaxPooling2D,Flatten,Dropout\n",
        "import keras\n",
        "from sklearn.preprocessing import LabelEncoder  \n",
        "import numpy as np\n",
        "import random\n",
        "from keras.preprocessing.image import ImageDataGenerator\n",
        "\n",
        "train=pd.read_csv(\"train.csv\")\n",
        "img_list=train['Image_File']\n",
        "train_y=np.array(train['Class'])\n",
        "le = LabelEncoder()\n",
        "train_y=le.fit_transform(train_y)\n",
        "train_y = keras.utils.to_categorical(train_y, num_classes=2)\n",
        "train_x=[]\n",
        "k=0\n",
        "for i in img_list:\n",
        "    train_x.append(cv2.resize(cv2.imread('drive/My Drive/Train Images/'+i),(260,260)))\n",
        "    print(k)\n",
        "    k+=1\n",
        "#print(train_y)\n",
        "train_x = np.array(train_x).astype('float32')\n",
        "model = Sequential()\n",
        "input_shape=(260,260,3) \n",
        "model.add(Conv2D(32, (3, 3),activation='relu', input_shape= input_shape))\n",
        "model.add(Conv2D(32, (3, 3), activation='relu'))\n",
        "model.add(MaxPooling2D(pool_size=(2, 2)))\n",
        "model.add(Conv2D(32, (3, 3), activation='relu'))\n",
        "model.add(MaxPooling2D(pool_size=(2, 2)))\n",
        "model.add(Conv2D(32, (3, 3), activation='relu'))\n",
        "model.add(MaxPooling2D(pool_size=(2, 2)))\n",
        "model.add(Conv2D(32, (3, 3), activation='relu'))\n",
        "model.add(MaxPooling2D(pool_size=(2, 2)))\n",
        "model.add(Conv2D(32, (3, 3), activation='relu',padding=\"same\"))\n",
        "model.add(MaxPooling2D(pool_size=(2, 2)))\n",
        "model.add(Flatten())\n",
        "model.add(Dense(512, activation='relu'))\n",
        "model.add(Dense(2, activation='softmax'))\n",
        "\n",
        "model.compile(\n",
        "loss='categorical_crossentropy',optimizer='adam',metrics=['accuracy']\n",
        ")\n",
        "\n",
        "epochs=8\n",
        "model.fit(train_x,train_y,epochs=epochs,batch_size=32)\n",
        "model.save(\"ch.h5\")\n",
        "\n",
        "\n"
      ],
      "execution_count": 0,
      "outputs": []
    },
    {
      "cell_type": "code",
      "metadata": {
        "id": "yn8lnIcIVaQT",
        "colab_type": "code",
        "colab": {}
      },
      "source": [
        "from keras.models import load_model\n",
        "import pandas as pd\n",
        "import numpy as np\n",
        "import cv2\n",
        "model = load_model('ch.h5')\n",
        "\n",
        "train=pd.read_csv(\"test.csv\")\n",
        "img_list=train['Image_File']\n",
        "test_x=[]\n",
        "k=0\n",
        "for i in img_list:\n",
        "    test_x.append(cv2.resize(cv2.imread('drive/My Drive/Test Images/'+i),(260,260)))\n",
        "    print(k)\n",
        "    k+=1\n",
        "test_x = np.array(test_x).astype('float32')\n",
        "\n",
        "clas=[]\n",
        "clas.append(model.predict_classes(test_x))\n",
        "print(clas)\n",
        "\n",
        "ans=[]\n",
        "for i in range(len(clas[0])):\n",
        "  if(clas[0][i]==0):\n",
        "    ans.append('Large')\n",
        "  else:\n",
        "    ans.append('Small')\n",
        "print(ans)\n",
        "ans=np.array(ans)\n",
        "nw_c={\n",
        "      'Image_File':img_list,\n",
        "       'Class':ans   \n",
        "}\n",
        "df=pd.DataFrame(nw_c)\n",
        "df.to_csv('test.csv',index=False)\n"
      ],
      "execution_count": 0,
      "outputs": []
    }
  ]
}